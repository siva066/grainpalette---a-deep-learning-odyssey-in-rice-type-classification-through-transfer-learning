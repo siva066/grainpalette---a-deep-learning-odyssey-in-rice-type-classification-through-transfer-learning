{
 "cells": [
  {
   "cell_type": "markdown",
   "metadata": {},
   "source": [
    "# 🚀 Rice Grain Classifier - Deployment Notebook\n",
    "This notebook helps you set up your rice grain classifier as a Flask web app and prepare it for deployment (e.g., on Render)."
   ]
  },
  {
   "cell_type": "code",
   "execution_count": null,
   "metadata": {},
   "outputs": [],
   "source": [
    "# ✅ Step 1: Install Required Libraries\n",
    "!pip install flask tensorflow numpy pillow"
   ]
  },
  {
   "cell_type": "code",
   "execution_count": null,
   "metadata": {},
   "outputs": [],
   "source": [
    "# ✅ Step 2: Create Flask App Files\n",
    "import os\n",
    "os.makedirs('templates', exist_ok=True)\n",
    "
",
    "# app.py\n",
    "with open("app.py", "w") as f:\n",
    "    f.write('''\n",
    "from flask import Flask, render_template, request\n",
    "from tensorflow.keras.models import load_model\n",
    "from tensorflow.keras.preprocessing.image import load_img, img_to_array\n",
    "import numpy as np\n",
    "\n",
    "app = Flask(__name__)\n",
    "model = load_model('rice_model.h5')\n",
    "class_names = ['Basmati', 'Jasmine', 'Karacadag']  # Change to your class names\n",
    "\n",
    "@app.route('/')\n",
    "def index():\n",
    "    return render_template('index.html')\n",
    "\n",
    "@app.route('/predict', methods=['POST'])\n",
    "def predict():\n",
    "    if 'file' not in request.files:\n",
    "        return 'No file uploaded!', 400\n",
    "    file = request.files['file']\n",
    "    if file.filename == '':\n",
    "        return 'No selected file', 400\n",
    "    \n",
    "    img = load_img(file, target_size=(224, 224))\n",
    "    img_array = img_to_array(img) / 255.0\n",
    "    img_array = np.expand_dims(img_array, axis=0)\n",
    "\n",
    "    prediction = model.predict(img_array)\n",
    "    predicted_class = class_names[np.argmax(prediction)]\n",
    "    confidence = round(np.max(prediction) * 100, 2)\n",
    "\n",
    "    return render_template('index.html', prediction=predicted_class, confidence=confidence)\n",
    "\n",
    "if __name__ == '__main__':\n",
    "    app.run(debug=True)\n",
    "''')"
   ]
  },
  {
   "cell_type": "code",
   "execution_count": null,
   "metadata": {},
   "outputs": [],
   "source": [
    "# index.html\n",
    "with open("templates/index.html", "w") as f:\n",
    "    f.write('''\n",
    "<!DOCTYPE html>\n",
    "<html>\n",
    "<head><title>Rice Grain Classifier</title></head>\n",
    "<body>\n",
    "    <h1>Upload a Rice Grain Image</h1>\n",
    "    <form action="/predict" method="post" enctype="multipart/form-data">\n",
    "        <input type="file" name="file" required>\n",
    "        <input type="submit" value="Classify">\n",
    "    </form>\n",
    "    {% if prediction %}\n",
    "        <h2>Prediction: {{ prediction }}</h2>\n",
    "        <p>Confidence: {{ confidence }}%</p>\n",
    "    {% endif %}\n",
    "</body>\n",
    "</html>\n",
    "''')"
   ]
  },
  {
   "cell_type": "code",
   "execution_count": null,
   "metadata": {},
   "outputs": [],
   "source": [
    "# requirements.txt\n",
    "with open("requirements.txt", "w") as f:\n",
    "    f.write("""\n",
    "Flask\n",
    "tensorflow\n",
    "numpy\n",
    "Pillow\n",
    """")"
   ]
  },
  {
   "cell_type": "markdown",
   "metadata": {},
   "source": [
    "✅ Now place your trained `rice_model.h5` file in the same directory, and you're ready to push the files to GitHub and deploy on [Render](https://render.com)."
   ]
  }
 ],
 "metadata": {
  "kernelspec": {
   "display_name": "Python 3",
   "language": "python",
   "name": "python3"
  },
  "language_info": {
   "name": "python",
   "version": ""
  }
 },
 "nbformat": 4,
 "nbformat_minor": 5
}
